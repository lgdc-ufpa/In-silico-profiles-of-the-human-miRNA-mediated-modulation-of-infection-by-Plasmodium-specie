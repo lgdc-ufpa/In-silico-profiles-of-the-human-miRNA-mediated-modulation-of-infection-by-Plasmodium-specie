{
 "cells": [
  {
   "cell_type": "code",
   "execution_count": 3,
   "metadata": {},
   "outputs": [
    {
     "ename": "ModuleNotFoundError",
     "evalue": "No module named 'bokeh.plotting.helpers'",
     "output_type": "error",
     "traceback": [
      "\u001b[0;31m---------------------------------------------------------------------------\u001b[0m",
      "\u001b[0;31mModuleNotFoundError\u001b[0m                       Traceback (most recent call last)",
      "\u001b[0;32m<ipython-input-3-96a13ae1fec3>\u001b[0m in \u001b[0;36m<module>\u001b[0;34m\u001b[0m\n\u001b[1;32m      2\u001b[0m \u001b[0;31m# from bokeh.charts import output_file, Chord #This is moved to the bkcharts\u001b[0m\u001b[0;34m\u001b[0m\u001b[0;34m\u001b[0m\u001b[0;34m\u001b[0m\u001b[0m\n\u001b[1;32m      3\u001b[0m \u001b[0;31m# note: bkcharts is unmantained\u001b[0m\u001b[0;34m\u001b[0m\u001b[0;34m\u001b[0m\u001b[0;34m\u001b[0m\u001b[0m\n\u001b[0;32m----> 4\u001b[0;31m \u001b[0;32mfrom\u001b[0m \u001b[0mbkcharts\u001b[0m \u001b[0;32mimport\u001b[0m \u001b[0moutput_file\u001b[0m\u001b[0;34m,\u001b[0m \u001b[0mChord\u001b[0m\u001b[0;34m\u001b[0m\u001b[0;34m\u001b[0m\u001b[0m\n\u001b[0m\u001b[1;32m      5\u001b[0m \u001b[0;34m\u001b[0m\u001b[0m\n\u001b[1;32m      6\u001b[0m \u001b[0;32mfrom\u001b[0m \u001b[0mbokeh\u001b[0m\u001b[0;34m.\u001b[0m\u001b[0mio\u001b[0m \u001b[0;32mimport\u001b[0m \u001b[0mshow\u001b[0m\u001b[0;34m\u001b[0m\u001b[0;34m\u001b[0m\u001b[0m\n",
      "\u001b[0;32m~/Documents/dev/malaria/venv-37/lib/python3.7/site-packages/bkcharts/__init__.py\u001b[0m in \u001b[0;36m<module>\u001b[0;34m\u001b[0m\n\u001b[1;32m      3\u001b[0m \u001b[0;34m\u001b[0m\u001b[0m\n\u001b[1;32m      4\u001b[0m \u001b[0;31m# defaults and constants\u001b[0m\u001b[0;34m\u001b[0m\u001b[0;34m\u001b[0m\u001b[0;34m\u001b[0m\u001b[0m\n\u001b[0;32m----> 5\u001b[0;31m \u001b[0;32mfrom\u001b[0m \u001b[0mbokeh\u001b[0m\u001b[0;34m.\u001b[0m\u001b[0mplotting\u001b[0m\u001b[0;34m.\u001b[0m\u001b[0mhelpers\u001b[0m \u001b[0;32mimport\u001b[0m \u001b[0mDEFAULT_PALETTE\u001b[0m\u001b[0;34m;\u001b[0m \u001b[0mDEFAULT_PALETTE\u001b[0m\u001b[0;34m\u001b[0m\u001b[0;34m\u001b[0m\u001b[0m\n\u001b[0m\u001b[1;32m      6\u001b[0m \u001b[0;34m\u001b[0m\u001b[0m\n\u001b[1;32m      7\u001b[0m \u001b[0;31m# main components\u001b[0m\u001b[0;34m\u001b[0m\u001b[0;34m\u001b[0m\u001b[0;34m\u001b[0m\u001b[0m\n",
      "\u001b[0;31mModuleNotFoundError\u001b[0m: No module named 'bokeh.plotting.helpers'"
     ]
    }
   ],
   "source": [
    "import pandas as pd\n",
    "# from bokeh.charts import output_file, Chord #This is moved to the bkcharts\n",
    "# note: bkcharts is unmantained\n",
    "from bkcharts import output_file, Chord\n",
    "\n",
    "from bokeh.io import show\n",
    "from bokeh.sampledata.les_mis import data\n",
    "nodes = data['nodes']\n",
    "links = data['links']\n",
    " \n",
    "nodes_df = pd.DataFrame(nodes)\n",
    "links_df = pd.DataFrame(links)\n",
    " \n",
    "source_data = links_df.merge(nodes_df, how='left', left_on='source', right_index=True)\n",
    "source_data = source_data.merge(nodes_df, how='left', left_on='target', right_index=True)\n",
    "source_data = source_data[source_data[\"value\"] > 5]\n",
    "\n",
    "source_data\n",
    "# data \n",
    "# chord_from_df = Chord(source_data, source=\"name_x\", target=\"name_y\", value=\"value\")\n",
    "# chord_from_df = Chord(source_data, source=\"source\", target=\"target\", value=\"value\")\n",
    "# output_file('chord-diagram-bokeh.html', mode=\"inline\")\n",
    "# show(chord_from_df)"
   ]
  }
 ],
 "metadata": {
  "kernelspec": {
   "display_name": "Python 3",
   "language": "python",
   "name": "python3"
  },
  "language_info": {
   "codemirror_mode": {
    "name": "ipython",
    "version": 3
   },
   "file_extension": ".py",
   "mimetype": "text/x-python",
   "name": "python",
   "nbconvert_exporter": "python",
   "pygments_lexer": "ipython3",
   "version": "3.7.3"
  }
 },
 "nbformat": 4,
 "nbformat_minor": 4
}
